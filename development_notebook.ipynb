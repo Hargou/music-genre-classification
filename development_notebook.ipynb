{
 "cells": [
  {
   "cell_type": "markdown",
   "id": "775f8e25",
   "metadata": {},
   "source": [
    "# Music Genre Classification Development"
   ]
  },
  {
   "cell_type": "code",
   "execution_count": null,
   "id": "c9de9937",
   "metadata": {},
   "outputs": [],
   "source": []
  }
 ],
 "metadata": {
  "kernelspec": {
   "display_name": "Python 3 (ipykernel)",
   "language": "python",
   "name": "python3"
  },
  "language_info": {
   "codemirror_mode": {
    "name": "ipython",
    "version": 3
   },
   "file_extension": ".py",
   "mimetype": "text/x-python",
   "name": "python",
   "nbconvert_exporter": "python",
   "pygments_lexer": "ipython3",
   "version": "3.9.12"
  }
 },
 "nbformat": 4,
 "nbformat_minor": 5
}
